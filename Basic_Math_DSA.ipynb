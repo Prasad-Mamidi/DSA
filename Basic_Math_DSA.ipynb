{
  "nbformat": 4,
  "nbformat_minor": 0,
  "metadata": {
    "colab": {
      "provenance": [],
      "authorship_tag": "ABX9TyP+scavLBOE4iAtQ9I3qDJR",
      "include_colab_link": true
    },
    "kernelspec": {
      "name": "python3",
      "display_name": "Python 3"
    },
    "language_info": {
      "name": "python"
    }
  },
  "cells": [
    {
      "cell_type": "markdown",
      "metadata": {
        "id": "view-in-github",
        "colab_type": "text"
      },
      "source": [
        "<a href=\"https://colab.research.google.com/github/Prasad-Mamidi/DSA/blob/main/Basic_Math_DSA.ipynb\" target=\"_parent\"><img src=\"https://colab.research.google.com/assets/colab-badge.svg\" alt=\"Open In Colab\"/></a>"
      ]
    },
    {
      "cell_type": "markdown",
      "source": [
        "\n",
        "\n",
        "```\n",
        "#find even or odd\n",
        "```\n",
        "\n"
      ],
      "metadata": {
        "id": "NHJCWc8GES9u"
      }
    },
    {
      "cell_type": "code",
      "execution_count": null,
      "metadata": {
        "colab": {
          "base_uri": "https://localhost:8080/"
        },
        "id": "qmMcu-DnEEGi",
        "outputId": "aa6820c1-32d0-4424-dff8-fabfbc805113"
      },
      "outputs": [
        {
          "output_type": "stream",
          "name": "stdout",
          "text": [
            "4\n",
            "True\n"
          ]
        }
      ],
      "source": [
        "def even_odd(num):\n",
        "  if num%2==0:\n",
        "    return True\n",
        "  else :\n",
        "    return False\n",
        "\n",
        "number = int(input())\n",
        "print(even_odd(number))"
      ]
    },
    {
      "cell_type": "code",
      "source": [
        "#find last digit of a number\n",
        "def find_last_digit(num):\n",
        "   return num%10\n",
        "print(find_last_digit(int(input())))"
      ],
      "metadata": {
        "colab": {
          "base_uri": "https://localhost:8080/"
        },
        "id": "HqtPbUOwIUDB",
        "outputId": "72fb7c29-07e8-4dfb-9d8c-cf968a26625a"
      },
      "execution_count": null,
      "outputs": [
        {
          "output_type": "stream",
          "name": "stdout",
          "text": [
            "1456\n",
            "6\n"
          ]
        }
      ]
    },
    {
      "cell_type": "code",
      "source": [
        "#count number of digits\n",
        "# Solution1\n",
        "def countdigit(num):\n",
        "  count=0\n",
        "  while(num>0):\n",
        "    count+=1\n",
        "    num = num//10\n",
        "  return count\n",
        "# print(countdigit(int(input())))\n"
      ],
      "metadata": {
        "colab": {
          "base_uri": "https://localhost:8080/"
        },
        "id": "hKKmCP4jJEXW",
        "outputId": "d99367e3-7384-407d-f70f-26b0474a6c20"
      },
      "execution_count": null,
      "outputs": [
        {
          "output_type": "stream",
          "name": "stdout",
          "text": [
            "1234\n",
            "4\n"
          ]
        }
      ]
    },
    {
      "cell_type": "code",
      "source": [
        "#solution 2\n",
        "def countdigit(num):\n",
        "  return len(num)\n",
        "print(countdigit(input()))"
      ],
      "metadata": {
        "id": "Wh9Y_1hBLe3H"
      },
      "execution_count": null,
      "outputs": []
    },
    {
      "cell_type": "code",
      "source": [
        "#solution3\n",
        "import math\n",
        "def countdigit(num):\n",
        "  return (int)(math.log10(num)+1)\n",
        "print(countdigit(int(input())))"
      ],
      "metadata": {
        "colab": {
          "base_uri": "https://localhost:8080/"
        },
        "id": "cwvuG15XMSPW",
        "outputId": "06c2ddff-179a-473c-8294-bb8614f45c4e"
      },
      "execution_count": null,
      "outputs": [
        {
          "output_type": "stream",
          "name": "stdout",
          "text": [
            "1466\n",
            "4\n"
          ]
        }
      ]
    }
  ]
}